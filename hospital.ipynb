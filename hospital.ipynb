{
 "cells": [
  {
   "cell_type": "markdown",
   "id": "94355511",
   "metadata": {
    "deletable": false,
    "editable": false,
    "run_control": {
     "frozen": true
    }
   },
   "source": [
    "## Enhancing Hospital Efficiency: Length of Stay Predictive Modeling.\n",
    "In the ever-evolving landscape of healthcare, the quest to enhance patient care outcomes and elevate the quality of healthcare services is an ongoing mission. Healthcare organizations are navigating a complex web of challenges, but within these challenges, lies a remarkable opportunity – the power of data.\n",
    "\n",
    "Healthcare analytics is the compass that guides organizations towards this opportunity. It's the art of dissecting and interpreting data, employing both quantitative and qualitative techniques to unveil the hidden gems of insights and patterns within the wealth of healthcare information. Among the multitude of metrics used for performance evaluation, one vital indicator stands out - the Length of Stay (LOS) for patients.\n",
    "\n",
    "Predicting a patient's Length of Stay is akin to holding a key that unlocks a world of possibilities. It empowers hospitals to optimize their treatment plans with precision, a measure that not only reduces LOS but also minimizes infection rates among patients, staff, and visitors. In essence, it's a pathway to not just improving patient care but revolutionizing healthcare management as a whole.\n",
    "\n",
    "In this journey towards better healthcare, you play a pivotal role. You are the data virtuoso, armed with the latest tools and techniques in healthcare analytics. Your mission is to transform raw data into meaningful insights that illuminate the intricate web of patient care. Through the lens of data analysis, you decode the mysteries of patient LOS, revealing trends and patterns that hold the key to more efficient and effective healthcare delivery.\n",
    "\n",
    "Collaborating closely with the healthcare team, you craft compelling data visualizations that bring these insights to life. Your data-driven creations become the guiding stars, steering healthcare professionals towards better decision-making, enhanced care, and safer environments. While the intricacies of your work may often go unnoticed, its impact reverberates throughout the healthcare organization.\n",
    "\n",
    "In the world of healthcare analytics, you are the unsung hero, the one who helps unveil the extraordinary stories of improved patient care and streamlined healthcare management. Your dedication to data and your ability to transform it into illuminating insights contribute to the ongoing saga of healthcare excellence, making every patient's journey towards better health that much more extraordinary."
   ]
  },
  {
   "cell_type": "markdown",
   "id": "655bb635",
   "metadata": {
    "deletable": false,
    "editable": false,
    "run_control": {
     "frozen": true
    }
   },
   "source": [
    "## Module 1\n",
    "### Task 1: Analyzing the train data.\n",
    "In a workspace, an data scientist initiated \"train.csv\" with a distinct sense of purpose. This dataset, an intricate tapestry of numbers and records, held the potential to unveil a concealed revelation. The task at hand was far more than routine; it stood as a pivotal endeavor to uncover the essential component in a pioneering scientific inquiry. Within each row and column, lay the capacity to redefine an entire domain of knowledge. With each scrutinized line, the motivation to unearth the elusive truth intensified, as the underlying reason for this undertaking gradually unveiled itself."
   ]
  },
  {
   "cell_type": "code",
   "execution_count": null,
   "id": "995400df",
   "metadata": {},
   "outputs": [],
   "source": [
    "import pandas as pd\n",
    "train = pd.read_csv('train.csv')\n",
    "train"
   ]
  },
  {
   "cell_type": "markdown",
   "id": "ea102e23",
   "metadata": {
    "deletable": false,
    "editable": false,
    "run_control": {
     "frozen": true
    }
   },
   "source": [
    "### Task 2: Decoding the test data.\n",
    "In the dim glow of the computer screen, the data scientist continued the intricate puzzle of data analysis. Having meticulously deciphered \"train.csv,\" the next chapter had arrived: \"test.csv.\" The two datasets were like twin siblings, sharing almost identical traits, but for one crucial distinction - a lone, enigmatic column to be predicted."
   ]
  },
  {
   "cell_type": "code",
   "execution_count": null,
   "id": "07a2ab4d",
   "metadata": {},
   "outputs": [],
   "source": [
    "test = pd.read_csv('test.csv')\n",
    "test"
   ]
  },
  {
   "cell_type": "markdown",
   "id": "d8c1d8d4",
   "metadata": {
    "deletable": false,
    "editable": false,
    "run_control": {
     "frozen": true
    }
   },
   "source": [
    "### Task 3: Navigating the Missing Values.\n",
    "As the data scientist delved into the dataset, a new challenge emerged—missing values. The code snippet \"null_values_train\" unveiled the extent of these gaps within \"train.csv.\" Each missing value represented a hidden aspect of the data that begged to be uncovered.\n",
    "\n",
    "This task was more than code; it was a quest for the data scientist to unearth hidden knowledge. The null values were the enigmatic pieces in a grand puzzle, vital to the project's success. The data scientist was resolute, devising strategies to address these gaps and ensure the dataset's completeness. With every null value tackled, the path to insights became clearer, one step closer to the ultimate goal."
   ]
  },
  {
   "cell_type": "code",
   "execution_count": null,
   "id": "e4251c18",
   "metadata": {},
   "outputs": [],
   "source": [
    "null_values_train = train.isnull().sum()\n",
    "null_values_train"
   ]
  },
  {
   "cell_type": "markdown",
   "id": "30105727",
   "metadata": {
    "deletable": false,
    "editable": false,
    "run_control": {
     "frozen": true
    }
   },
   "source": [
    "### Task 4: Conquering the Enigma of Missing Values.\n",
    "With a sense of unwavering dedication, the data scientist shifted their focus to the \"test.csv\" dataset, ready to face another formidable challenge. The code snippet \"null_values_test\" unveiled a fresh perspective on the missing values within this new dataset. Each null value represented a potential hurdle, an element of the story that was yet to be fully understood."
   ]
  },
  {
   "cell_type": "code",
   "execution_count": null,
   "id": "d9b833f3",
   "metadata": {},
   "outputs": [],
   "source": [
    "\n",
    "null_values_test = test.isnull().sum()\n",
    "null_values_test"
   ]
  },
  {
   "cell_type": "markdown",
   "id": "f77da452",
   "metadata": {
    "deletable": false,
    "editable": false,
    "run_control": {
     "frozen": true
    }
   },
   "source": [
    "### Task 5: Data Healing.\n",
    "With each line of code executed, the data scientist meticulously filled in the missing pieces of the puzzle. The \"Bed Grade\" column, which held information critical to the project, saw its gaps mended. By replacing the NA values with the mode of the column, the data scientist ensured that this aspect of the data was now complete and ready for analysis.\n",
    "\n",
    "The same diligent approach was applied to the \"City_Code_Patient\" column, both in the training and test datasets. With missing values replaced by the mode, the data scientist breathed life back into these columns, making the data more robust and insightful. The journey to harness the full potential of the datasets continued, as these enhancements brought the data scientist closer to the moment of revelation."
   ]
  },
  {
   "cell_type": "code",
   "execution_count": null,
   "id": "c9ef314d",
   "metadata": {},
   "outputs": [],
   "source": [
    "#Replacing NA values in Bed Grade Column for both Train and Test datssets\n",
    "\n",
    "\n",
    "train['Bed Grade'].fillna(train['Bed Grade'].mode()[0], inplace = True)\n",
    "\n",
    "train['City_Code_Patient'].fillna(train['City_Code_Patient'].mode()[0], inplace = True)\n",
    "\n",
    "train\n",
    "\n"
   ]
  },
  {
   "cell_type": "markdown",
   "id": "32c9c2d3",
   "metadata": {
    "deletable": false,
    "editable": false,
    "run_control": {
     "frozen": true
    }
   },
   "source": [
    "### Task 6: Data Completeness.\n",
    "With precision and dedication, the data scientist extended their data preparation process to the \"test.csv\" dataset. Just as they had done for the training data, the missing values in the \"Bed Grade\" and \"City_Code_Patient\" columns were diligently addressed.\n",
    "\n",
    "By filling in these gaps with the mode of their respective columns, the data scientist ensured that the test data was now equally robust and well-prepared. The two datasets were now harmonized, ready to undergo analysis, and the stage was set for the critical next steps in the project."
   ]
  },
  {
   "cell_type": "code",
   "execution_count": null,
   "id": "315e6d6b",
   "metadata": {},
   "outputs": [],
   "source": [
    "\n",
    "test['Bed Grade'].fillna(test['Bed Grade'].mode()[0], inplace = True)\n",
    "test['City_Code_Patient'].fillna(test['City_Code_Patient'].mode()[0], inplace = True)\n",
    "test"
   ]
  },
  {
   "cell_type": "markdown",
   "id": "97d96e31",
   "metadata": {
    "deletable": false,
    "editable": false,
    "run_control": {
     "frozen": true
    }
   },
   "source": [
    "## Module 2\n",
    "### Task 1: Transforming 'Stay' with LabelEncoder.\n",
    "In the data scientist's relentless pursuit of knowledge, they ventured into the realm of feature transformation. The code snippet employing the LabelEncoder was a pivotal step in the journey. The \"Stay\" column, a critical factor in the dataset, was now transformed into numerical values for the machine to comprehend.\n",
    "\n",
    "This transformation was essential to enable predictive modeling and machine learning algorithms to make sense of the data. The data scientist watched as the \"Stay\" column, once a collection of varied labels, became a structured numerical representation, opening the door to new possibilities in analysis."
   ]
  },
  {
   "cell_type": "code",
   "execution_count": null,
   "id": "06ba11f4",
   "metadata": {},
   "outputs": [],
   "source": [
    "from sklearn.preprocessing import LabelEncoder\n",
    "le = LabelEncoder()\n",
    "\n",
    "train['Stay'] = le.fit_transform(train['Stay'].astype('str'))\n",
    "train\n"
   ]
  },
  {
   "cell_type": "markdown",
   "id": "b283a5a9",
   "metadata": {
    "deletable": false,
    "editable": false,
    "run_control": {
     "frozen": true
    }
   },
   "source": [
    "### Task 2: Charting the Unknown.\n",
    "In the next chapter of the data scientist's story, they turned their attention to the \"test.csv\" dataset. Here, they encountered an intriguing challenge. The \"Stay\" column, vital for the project, was initially left blank. Without missing a beat, the data scientist boldly assigned a default value of -1 to this column, setting the stage for further data manipulation and analysis.\n",
    "\n",
    "The reasons for this move lay hidden within the algorithmic realm, a placeholder to be eventually replaced by machine-generated predictions. As the data scientist executed this change, it symbolized the start of a new phase in their mission – the one where the algorithm would craft predictions and, in turn, determine the lengths of patients' stays."
   ]
  },
  {
   "cell_type": "code",
   "execution_count": null,
   "id": "41f0b5a8",
   "metadata": {},
   "outputs": [],
   "source": [
    "#Imputing dummy Stay column in test datset to concatenate with train dataset\n",
    "\n",
    "\n",
    "test['Stay'] = -1\n",
    "test"
   ]
  },
  {
   "cell_type": "markdown",
   "id": "9bb66f91",
   "metadata": {
    "deletable": false,
    "editable": false,
    "run_control": {
     "frozen": true
    }
   },
   "source": [
    "### Task 3: Data Convergence.\n",
    "As the data scientist continued their quest for insights, they faced a pivotal moment in their journey. The merging of the \"train\" and \"test\" datasets marked a significant milestone. By creating a single, consolidated dataset named \"df,\" they brought together the entirety of their data resources."
   ]
  },
  {
   "cell_type": "code",
   "execution_count": null,
   "id": "fac9e189",
   "metadata": {},
   "outputs": [],
   "source": [
    "\n",
    "df = pd.concat([train, test], ignore_index=True)\n",
    "df"
   ]
  },
  {
   "cell_type": "markdown",
   "id": "8bf468df",
   "metadata": {
    "deletable": false,
    "editable": false,
    "run_control": {
     "frozen": true
    }
   },
   "source": [
    "### Task 4: Transforming Categories into Numbers.\n",
    "With each loop iteration, the data scientist's journey into data transformation continued to unfold. They recognized the importance of encoding categorical variables, as it was a pivotal step in preparing the data for machine learning algorithms. For every feature in the list, including \"Hospital_type_code,\" \"Department,\" \"Age,\" and more, the LabelEncoder was brought into play.\n",
    "\n",
    "This transformation turned the categorical variables into numerical representations, providing a common language for the algorithms to interpret. It was as if these once-diverse variables were now speaking a unified numerical dialect."
   ]
  },
  {
   "cell_type": "code",
   "execution_count": null,
   "id": "66965b0d",
   "metadata": {},
   "outputs": [],
   "source": [
    "#Label Encoding all the columns in Train and test datasets\n",
    "\n",
    "for i in ['Hospital_type_code', 'Hospital_region_code', 'Department',\n",
    "          'Ward_Type', 'Ward_Facility_Code', 'Type of Admission', 'Severity of Illness', 'Age']:\n",
    "    le = LabelEncoder()\n",
    "    df[i] = le.fit_transform(df[i].astype(str))\n",
    "df"
   ]
  },
  {
   "cell_type": "markdown",
   "id": "96af664e",
   "metadata": {
    "deletable": false,
    "editable": false,
    "run_control": {
     "frozen": true
    }
   },
   "source": [
    "## Module 3\n",
    "### Task 1: Data Segmentation.\n",
    "In the ever-evolving data scientist's tale, a pivotal moment arrived. The \"train\" dataset, known as \"df\" from earlier, underwent a transformation. With the code snippet, the data scientist carefully filtered the data, creating a refined version where \"Stay\" values did not equal -1. This decision marked the separation of data meant for training and data that would be used for predictions.\n",
    "\n",
    "The \"train\" dataset now held only the rows where the outcomes were known, and it was this dataset that would be the cornerstone for developing and validating predictive models. It was a focused, purpose-driven dataset where patterns and insights would be uncovered to guide the project."
   ]
  },
  {
   "cell_type": "code",
   "execution_count": null,
   "id": "2b2f46aa",
   "metadata": {},
   "outputs": [],
   "source": [
    "#Spearating Train and Test Datasets\n",
    "\n",
    "train = df[df['Stay']!=-1]\n",
    "train"
   ]
  },
  {
   "cell_type": "markdown",
   "id": "1641496e",
   "metadata": {
    "deletable": false,
    "editable": false,
    "run_control": {
     "frozen": true
    }
   },
   "source": [
    "### Task 2: Preparation for Prediction.\n",
    "In the data scientist's ongoing quest for knowledge, another crucial step unfolded. The \"test\" dataset, born from the depths of the \"df\" dataset, was carved out with precision. The code snippet effortlessly separated data where \"Stay\" values equaled -1, signifying the portion of the dataset meant for predictions.\n",
    "\n",
    "This division marked the birth of the \"test\" dataset, where the outcome was still shrouded in mystery and yet to be revealed. It was this dataset that would soon become the canvas for the predictive models, where the machine would strive to unlock the riddles of patient stay durations."
   ]
  },
  {
   "cell_type": "code",
   "execution_count": null,
   "id": "e67107fa",
   "metadata": {},
   "outputs": [],
   "source": [
    "\n",
    "test = df[df['Stay']==-1]\n",
    "test"
   ]
  },
  {
   "cell_type": "markdown",
   "id": "40f981eb",
   "metadata": {
    "deletable": false,
    "editable": false,
    "run_control": {
     "frozen": true
    }
   },
   "source": [
    "### Task 3: Feature Engineering for Enhanced Predictive Analysis.\n",
    "As the data scientist's journey unfolded, a new chapter of feature engineering and data enrichment began. The code snippet provided a function, \"get_countid_enocde,\" designed to extract valuable information from the dataset.\n",
    "\n",
    "Using this function, the data scientist grouped data by different combinations of features such as 'patientid,' 'Hospital_region_code,' and 'Ward_Facility_Code' to calculate counts and then merged these counts back into the datasets for both training and testing data. This process created new features, such as 'count_id_patient' and 'count_id_patient_hospitalCode,' that reflected the frequency of each combination, offering deeper insights into the data.\n",
    "\n",
    "With each transformation, the data scientist was enhancing the dataset, preparing it for the predictive modeling phase. The result was a dataset, \"test1,\" meticulously refined, and now poised for predictive analysis, with features engineered to uncover hidden patterns in patient stays."
   ]
  },
  {
   "cell_type": "code",
   "execution_count": null,
   "id": "3df7c2b2",
   "metadata": {},
   "outputs": [],
   "source": [
    "import numpy as np\n",
    "def get_countid_enocde(train, test, cols, name):\n",
    "  temp = train.groupby(cols)['case_id'].count().reset_index().rename(columns = {'case_id': name})\n",
    "  temp2 = test.groupby(cols)['case_id'].count().reset_index().rename(columns = {'case_id': name})\n",
    "  train = pd.merge(train, temp, how='left', on= cols)\n",
    "  test = pd.merge(test,temp2, how='left', on= cols)\n",
    "  train[name] = train[name].astype('float')\n",
    "  test[name] = test[name].astype('float')\n",
    "  train[name].fillna(np.median(temp[name]), inplace = True)\n",
    "  test[name].fillna(np.median(temp2[name]), inplace = True)\n",
    "  return train, test\n",
    "\n",
    "\n",
    "\n",
    "\n",
    "train, test = get_countid_enocde(train, test, ['patientid'], name = 'count_id_patient')\n",
    "train, test = get_countid_enocde(train, test,\n",
    "                                 ['patientid', 'Hospital_region_code'], name = 'count_id_patient_hospitalCode')\n",
    "train, test = get_countid_enocde(train, test,\n",
    "                                 ['patientid', 'Ward_Facility_Code'], name = 'count_id_patient_wardfacilityCode')\n",
    "test1 = test.drop(['Stay', 'patientid', 'Hospital_region_code', 'Ward_Facility_Code'], axis =1)\n",
    "test1"
   ]
  },
  {
   "cell_type": "markdown",
   "id": "c269d1d9",
   "metadata": {
    "deletable": false,
    "editable": false,
    "run_control": {
     "frozen": true
    }
   },
   "source": [
    "### Task 4: Sculpting the Data.\n",
    "The \"train1\" dataset emerged as the refined version of the training data. With precision, the data scientist executed the code to eliminate certain columns, including 'case_id,' 'patientid,' 'Hospital_region_code,' and 'Ward_Facility_Code.' These exclusions were made to streamline the dataset for predictive modeling.\n",
    "\n",
    "By removing these variables, the data scientist aimed to reduce noise and focus on the most relevant features for predicting patient stays. The \"train1\" dataset now stood as a lean, purpose-built platform for the upcoming modeling stage, where machine learning algorithms would uncover the intricate patterns within the data, taking the project one step closer to its conclusion."
   ]
  },
  {
   "cell_type": "code",
   "execution_count": null,
   "id": "e84ce571",
   "metadata": {},
   "outputs": [],
   "source": [
    "\n",
    "train1 = train.drop(['case_id', 'patientid', 'Hospital_region_code', 'Ward_Facility_Code'], axis =1)\n",
    "train1"
   ]
  },
  {
   "cell_type": "markdown",
   "id": "71a7763c",
   "metadata": {
    "deletable": false,
    "editable": false,
    "run_control": {
     "frozen": true
    }
   },
   "source": [
    "## Module 4\n",
    "### Task 1: Data Splitting for Model Mastery.\n",
    "With a sense of purpose, the data scientist transitioned to the realm of model preparation and evaluation. The code snippet utilizing \"train_test_split\" played a pivotal role in splitting the \"train1\" dataset into two distinct subsets - one for training and the other for testing.\n",
    "\n",
    "The features, designated as 'X1,' and the target variable, 'y1' (in this case, 'Stay'), were segregated. The split into 'X_train' and 'X_test' along with their corresponding 'y_train' and 'y_test' counterparts was carried out to create a controlled environment for model development and evaluation.\n",
    "\n",
    "This division of data was a fundamental step in the process, essential for training and assessing the performance of machine learning models. With the training and testing datasets now established, the data scientist was poised to embark on the final phases of their data-driven journey, where predictive modeling would unveil insights, guide decision-making, and bring the project to its ultimate conclusion."
   ]
  },
  {
   "cell_type": "code",
   "execution_count": null,
   "id": "d0393900",
   "metadata": {},
   "outputs": [],
   "source": [
    "from sklearn.model_selection import train_test_split\n",
    "\n",
    "X1 = train1.drop('Stay', axis =1)\n",
    "y1 = train1['Stay']\n",
    "\n",
    "X_train, X_test, y_train, y_test = train_test_split(X1, y1, test_size =0.20, random_state =100)\n",
    "X_train, X_test, y_train, y_test"
   ]
  },
  {
   "cell_type": "markdown",
   "id": "d88cb40b",
   "metadata": {
    "deletable": false,
    "editable": false,
    "run_control": {
     "frozen": true
    }
   },
   "source": [
    "### Task 2: The XGBoost Model Story.\n",
    "In the final stages of their data scientist's journey, the spotlight shone on predictive modeling. The XGBoost algorithm, a powerful machine learning tool, was enlisted to unlock the hidden patterns within the data. With a meticulously crafted configuration of hyperparameters, including 'max_depth,' 'learning_rate,' and 'n_estimators,' the XGBoost classifier was primed for action.\n",
    "\n",
    "With precision, the classifier was trained on the \"X_train\" and \"y_train\" datasets, learning from the patterns embedded within the training data. Once the model was honed, it embarked on the critical phase of prediction. 'X_test' became the testing ground where the model's capabilities were put to the test.\n",
    "\n",
    "The accuracy score was the final judgment, quantifying the model's performance. With an accuracy score rounded to two decimal places, the data scientist had a clear measure of the model's ability to predict patient stays, bringing the project to its ultimate conclusion.\n"
   ]
  },
  {
   "cell_type": "code",
   "execution_count": null,
   "id": "eda052c5",
   "metadata": {},
   "outputs": [],
   "source": [
    "import xgboost\n",
    "from sklearn.metrics import accuracy_score\n",
    "\n",
    "\n",
    "classifier_xgb = xgboost.XGBClassifier(max_depth=4, learning_rate=0.1, n_estimators=800,\n",
    "                                  objective='multi:softmax', reg_alpha=0.5, reg_lambda=1.5,\n",
    "                                  booster='gbtree', n_jobs=4, min_child_weight=2, base_score= 0.75)\n",
    "\n",
    "model_xgb = classifier_xgb.fit(X_train, y_train)\n",
    "\n",
    "prediction_xgb = model_xgb.predict(X_test)\n",
    "acc_score_xgb = accuracy_score(prediction_xgb,y_test)\n",
    "\n",
    "acc_score_xgb = round(acc_score_xgb, 2)\n",
    "acc_score_xgb"
   ]
  },
  {
   "cell_type": "markdown",
   "id": "2eb9eb2c",
   "metadata": {
    "deletable": false,
    "editable": false,
    "run_control": {
     "frozen": true
    }
   },
   "source": [
    "### Task 3: The Final Predictive Model Transformation.\n",
    "In the final chapter of this data science journey, the predictive model's capabilities were put into action for real-world predictions. Using the trained XGBoost classifier, the data scientist made predictions on the \"test1\" dataset. These predictions were based on the features in \"test1\" and stored as \"pred_xgb.\"\n",
    "\n",
    "The data scientist's meticulous work continued as they assembled the results. A DataFrame, \"result_xgb,\" was crafted, capturing the case ID of each prediction alongside the corresponding \"Stay\" values.\n",
    "\n",
    "To enhance the readability and understanding of the results, the data scientist mapped the numeric labels of \"Stay\" to their corresponding meaningful categories. The predictions now represented patient stays in terms of the actual durations, making them more accessible and valuable for practical use."
   ]
  },
  {
   "cell_type": "code",
   "execution_count": null,
   "id": "144fbbd8",
   "metadata": {},
   "outputs": [],
   "source": [
    "\n",
    "\n",
    "pred_xgb = classifier_xgb.predict(test1.iloc[:, 1:])\n",
    "result_xgb = pd.DataFrame(pred_xgb, columns=['Stay'])\n",
    "result_xgb['case_id'] = test1['case_id']\n",
    "result_xgb = result_xgb[['case_id', 'Stay']]\n",
    "\n",
    "result_xgb['Stay'] = result_xgb['Stay'].replace(\n",
    "    {0: '0-10', 1: '11-20', 2: '21-30', 3: '31-40', 4: '41-50', 5: '51-60', 6: '61-70', 7: '71-80', 8: '81-90',\n",
    "     9: '91-100', 10: 'More than 100 Days'})\n",
    "result_xgb\n"
   ]
  },
  {
   "cell_type": "markdown",
   "id": "890d828b",
   "metadata": {
    "deletable": false,
    "editable": false,
    "run_control": {
     "frozen": true
    }
   },
   "source": [
    "### Task 4: Decoding Patient Stays.\n",
    "In the closing chapters of this data-driven saga, the data scientist's journey took a significant turn. With the \"result_xgb\" DataFrame, they embarked on an insightful exploration. The code snippet, with \"groupby\" and \"nunique\" operations, provided a bird's-eye view of the distribution of predicted patient stays.\n",
    "\n",
    "Each category, ranging from '0-10' to 'More than 100 Days,' was meticulously examined. The \"case_id\" count for each group was tallied, offering a clear understanding of the predicted distribution of patient stays.\n",
    "\n",
    "This information was not just a collection of numbers; it was a crucial piece of the puzzle. It provided a snapshot of how the predictive model envisioned the durations of patient stays, which could be pivotal for making informed decisions in a healthcare setting."
   ]
  },
  {
   "cell_type": "code",
   "execution_count": null,
   "id": "e07786d5",
   "metadata": {},
   "outputs": [],
   "source": [
    "\n",
    "result = result_xgb.groupby('Stay')['case_id'].nunique()\n",
    "result"
   ]
  }
 ],
 "metadata": {
  "kernelspec": {
   "display_name": "Python 3 (ipykernel)",
   "language": "python",
   "name": "python3"
  },
  "language_info": {
   "codemirror_mode": {
    "name": "ipython",
    "version": 3
   },
   "file_extension": ".py",
   "mimetype": "text/x-python",
   "name": "python",
   "nbconvert_exporter": "python",
   "pygments_lexer": "ipython3",
   "version": "3.11.4"
  }
 },
 "nbformat": 4,
 "nbformat_minor": 5
}
